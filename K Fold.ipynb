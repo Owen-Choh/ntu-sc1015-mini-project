{
 "cells": [
  {
   "cell_type": "markdown",
   "id": "91deb707",
   "metadata": {
    "id": "cbb18aa6"
   },
   "source": [
    "# Creating a Model for car Price : Attempt 3"
   ]
  },
  {
   "cell_type": "markdown",
   "id": "c20f0d78",
   "metadata": {},
   "source": [
    "# K Fold "
   ]
  },
  {
   "cell_type": "code",
   "execution_count": 10,
   "id": "0e02d325",
   "metadata": {},
   "outputs": [
    {
     "name": "stdout",
     "output_type": "stream",
     "text": [
      "<class 'pandas.core.frame.DataFrame'>\n",
      "RangeIndex: 17966 entries, 0 to 17965\n",
      "Data columns (total 8 columns):\n",
      " #   Column        Non-Null Count  Dtype  \n",
      "---  ------        --------------  -----  \n",
      " 0   Unnamed: 0    17966 non-null  int64  \n",
      " 1   model         17966 non-null  object \n",
      " 2   year          17966 non-null  object \n",
      " 3   price         17966 non-null  int64  \n",
      " 4   transmission  17966 non-null  object \n",
      " 5   mileage       17966 non-null  int64  \n",
      " 6   fuelType      17966 non-null  object \n",
      " 7   engineSize    17966 non-null  float64\n",
      "dtypes: float64(1), int64(3), object(4)\n",
      "memory usage: 1.1+ MB\n",
      "Train Set : (14372, 35) (14372, 1)\n",
      "Test Set  : (3594, 35) (3594, 1)\n",
      "KFold(n_splits=10, random_state=None, shuffle=False)\n",
      "Accuracy:  [0.00779076 0.01112966 0.01224263 0.01502504 0.01892042 0.0228158\n",
      " 0.01336303 0.0155902  0.01280624 0.0233853 ] 0.015306908445528492\n",
      "R2:  0.6074769618180829\n",
      "Mean Squared Error :  -8401963.2369158\n",
      "Mean Absolute Error :  -1948.3624906581495\n"
     ]
    }
   ],
   "source": [
    "# Import the required function from sklearn\n",
    "import numpy as np\n",
    "import pandas as pd\n",
    "import seaborn as sb\n",
    "import matplotlib.pyplot as plt\n",
    "sb.set()\n",
    "from sklearn.model_selection import KFold\n",
    "from sklearn.tree import DecisionTreeClassifier\n",
    "from sklearn.linear_model import LogisticRegression\n",
    "from sklearn.model_selection import train_test_split\n",
    "from sklearn.preprocessing import OneHotEncoder\n",
    "from sklearn import model_selection\n",
    "onehot = OneHotEncoder()\n",
    "\n",
    "car_data = pd.read_csv(\"cleaned_cardata.csv\")\n",
    "car_data['year'] = car_data['year'].astype('object')\n",
    "car_data.info()\n",
    "\n",
    "car_data_cat = car_data[[\"model\", \"transmission\", \"fuelType\"]]\n",
    "onehot.fit(car_data_cat)\n",
    "car_data_cat_onehot = pd.DataFrame(onehot.transform(car_data_cat).toarray(),\n",
    "                                  columns = onehot.get_feature_names_out(car_data_cat.columns))\n",
    "#car_data_cat_onehot.info()\n",
    "\n",
    "car_numeric = car_data[['mileage', 'engineSize', 'year']]\n",
    "car_response = car_data['price']\n",
    "car_data_ohe = pd.concat([car_numeric, car_data_cat_onehot, car_response],\n",
    "                        sort = False, axis = 1).reindex(index=car_numeric.index)\n",
    "\n",
    "#car_data_ohe.info()\n",
    "\n",
    "# Extract Response and Predictors\n",
    "y = pd.DataFrame(car_data_ohe['price'])\n",
    "X = pd.DataFrame(car_data_ohe.drop('price', axis = 1))\n",
    "\n",
    "# Split the Dataset into random Train and Test\n",
    "X_train, X_test, y_train, y_test = train_test_split(X, y, test_size = 0.2)\n",
    "\n",
    "# Check the sample sizes\n",
    "print(\"Train Set :\", X_train.shape, y_train.shape)\n",
    "print(\"Test Set  :\", X_test.shape, y_test.shape)\n",
    "\n",
    "#Using Logistic Regression and loading it to variable classifier\n",
    "classifier = DecisionTreeClassifier(max_depth = 4)  \n",
    "classifier.fit(X_train, y_train)\n",
    "y_pred = classifier.predict(X_test)\n",
    "\n",
    "#Accuracy Evaluation\n",
    "kfold = KFold(n_splits=10)\n",
    "kfold.get_n_splits(X)\n",
    "print (kfold)\n",
    "model = DecisionTreeClassifier(max_depth = 4)\n",
    "\n",
    "results = model_selection.cross_val_score(model, X, y, cv=kfold, scoring='accuracy')\n",
    "r2 = model_selection.cross_val_score(model, X, y, cv=kfold, scoring='r2')\n",
    "mse = model_selection.cross_val_score(model, X, y, cv=kfold, scoring='neg_mean_squared_error')\n",
    "mae = model_selection.cross_val_score(model, X, y, cv=kfold, scoring='neg_mean_absolute_error')\n",
    "\n",
    "\n",
    "print('Accuracy: ',results,results.mean())\n",
    "print('R2: ',r2.mean())\n",
    "print(\"Mean Squared Error : \", mse.mean())\n",
    "print(\"Mean Absolute Error : \", mae.mean())"
   ]
  },
  {
   "cell_type": "markdown",
   "id": "7478d3b9",
   "metadata": {},
   "source": [
    "Mean Absolute Error model evaluation is a regression metric and it gives an idea of how wrong the predictions are. The output of the function is a number from 0 to all the possible negative value. When the value is close to 0, the model will be more accurate in predicting as the prediction has lesser error.\n",
    "The Mean Absolute Error output shows an average of -0.06581189431652322 which is very close to 0, which means that the model is accurate and its prone to lesser error. "
   ]
  },
  {
   "cell_type": "markdown",
   "id": "cdd56565",
   "metadata": {},
   "source": [
    "<br>\n",
    "Mean Squared Error model evaluation is, the average squared difference between the estimated values and what is estimated. MSE is almost always strictly positive (and not zero) is because of randomness or because the estimator does not account for information that could produce a more accurate estimate. \n",
    "<br>\n",
    "The MSE is a measure of the quality of an estimator—it is always non-negative, and values closer to zero are better.\n",
    "But because of the scoring neg_mean_squared_error, the output will shows a negative value instead of a positive value.\n",
    "<br>\n",
    "The Mean Squared Error output shows an average of -0.007606429716099846 which is very close to 0, which means that the model is accurate.\n"
   ]
  }
 ],
 "metadata": {
  "colab": {
   "provenance": []
  },
  "kernelspec": {
   "display_name": "Python 3 (ipykernel)",
   "language": "python",
   "name": "python3"
  },
  "language_info": {
   "codemirror_mode": {
    "name": "ipython",
    "version": 3
   },
   "file_extension": ".py",
   "mimetype": "text/x-python",
   "name": "python",
   "nbconvert_exporter": "python",
   "pygments_lexer": "ipython3",
   "version": "3.9.13"
  }
 },
 "nbformat": 4,
 "nbformat_minor": 5
}
