{
 "cells": [
  {
   "cell_type": "markdown",
   "id": "91deb707",
   "metadata": {
    "id": "cbb18aa6"
   },
   "source": [
    "# Creating a Model for car Price : Attempt 3"
   ]
  },
  {
   "cell_type": "markdown",
   "id": "c20f0d78",
   "metadata": {},
   "source": [
    "# Using Decision Tree Classifier Model"
   ]
  },
  {
   "cell_type": "code",
   "execution_count": 11,
   "id": "0e02d325",
   "metadata": {},
   "outputs": [
    {
     "name": "stdout",
     "output_type": "stream",
     "text": [
      "Train Set : (14372, 35) (14372, 1)\n",
      "Test Set  : (3594, 35) (3594, 1)\n",
      "Goodness of Fit of Model \tTrain Dataset\n",
      "Classification Accuracy \t: 0.0221959365432786\n",
      "\n",
      "Goodness of Fit of Model \tTest Dataset\n",
      "Classification Accuracy \t: 0.016972732331663885\n",
      "\n",
      "R2 for Train:  0.6440413009471363\n",
      "R2 for Test:  0.6363479395893892\n"
     ]
    }
   ],
   "source": [
    "# Import the required function from sklearn\n",
    "import numpy as np\n",
    "import pandas as pd\n",
    "import seaborn as sb\n",
    "import matplotlib.pyplot as plt\n",
    "sb.set()\n",
    "from sklearn.model_selection import KFold\n",
    "from sklearn.tree import DecisionTreeClassifier\n",
    "from sklearn.linear_model import LogisticRegression\n",
    "from sklearn.model_selection import train_test_split,cross_val_score\n",
    "from sklearn.preprocessing import OneHotEncoder\n",
    "from sklearn import model_selection\n",
    "from sklearn.metrics import confusion_matrix, classification_report, accuracy_score, r2_score\n",
    "onehot = OneHotEncoder()\n",
    "\n",
    "car_data = pd.read_csv(\"cleaned_cardata.csv\")\n",
    "car_data['year'] = car_data['year'].astype('object')\n",
    "#car_data.info()\n",
    "\n",
    "car_data_cat = car_data[[\"model\", \"transmission\", \"fuelType\"]]\n",
    "onehot.fit(car_data_cat)\n",
    "car_data_cat_onehot = pd.DataFrame(onehot.transform(car_data_cat).toarray(),\n",
    "                                  columns = onehot.get_feature_names_out(car_data_cat.columns))\n",
    "\n",
    "car_numeric = car_data[['mileage', 'engineSize', 'year']]\n",
    "car_response = car_data['price']\n",
    "car_data_ohe = pd.concat([car_numeric, car_data_cat_onehot, car_response],\n",
    "                        sort = False, axis = 1).reindex(index=car_numeric.index)\n",
    "\n",
    "# Extract Response and Predictors\n",
    "y = pd.DataFrame(car_data_ohe['price'])\n",
    "X = pd.DataFrame(car_data_ohe.drop('price', axis = 1))\n",
    "\n",
    "# Split the Dataset into random Train and Test\n",
    "X_train, X_test, y_train, y_test = train_test_split(X, y, test_size = 0.2)\n",
    "\n",
    "# Check the sample sizes\n",
    "print(\"Train Set :\", X_train.shape, y_train.shape)\n",
    "print(\"Test Set  :\", X_test.shape, y_test.shape)\n",
    "\n",
    "# Using Decision Tree Classifier and loading it to variable classifier\n",
    "classifier = DecisionTreeClassifier(max_depth = 4)  \n",
    "classifier.fit(X_train, y_train)\n",
    "y_pred = classifier.predict(X_test)\n",
    "\n",
    "# Fit using Decision Tree Classifier\n",
    "model = DecisionTreeClassifier(max_depth = 4)\n",
    "model.fit(X_train,y_train)\n",
    "\n",
    "# Predict \n",
    "y_train_pred = model.predict(X_train)\n",
    "y_test_pred = model.predict(X_test)\n",
    "\n",
    "# Check the Goodness of Fit (on Train Data)\n",
    "print(\"Goodness of Fit of Model \\tTrain Dataset\")\n",
    "print(\"Classification Accuracy \\t:\", model.score(X_train, y_train))\n",
    "print()\n",
    "\n",
    "# Check the Goodness of Fit (on Test Data)\n",
    "print(\"Goodness of Fit of Model \\tTest Dataset\")\n",
    "print(\"Classification Accuracy \\t:\", model.score(X_test, y_test))\n",
    "print()\n",
    "\n",
    "print(\"R2 for Train: \", r2_score(y_train, y_train_pred))\n",
    "print(\"R2 for Test: \", r2_score(y_test, y_test_pred))"
   ]
  },
  {
   "cell_type": "code",
   "execution_count": null,
   "id": "fcaf8619",
   "metadata": {},
   "outputs": [],
   "source": []
  },
  {
   "cell_type": "markdown",
   "id": "9d76796a",
   "metadata": {},
   "source": [
    "# Adding K-Fold onto the Model"
   ]
  },
  {
   "cell_type": "code",
   "execution_count": 15,
   "id": "5fa49054",
   "metadata": {
    "scrolled": true
   },
   "outputs": [
    {
     "name": "stdout",
     "output_type": "stream",
     "text": [
      "KFold(n_splits=10, random_state=None, shuffle=False)\n",
      "Accuracy:  [0.00779076 0.01112966 0.01224263 0.01502504 0.01892042 0.0228158\n",
      " 0.01336303 0.0155902  0.01280624 0.0233853 ] 0.015306908445528492\n",
      "R2:  0.6074769618180829\n"
     ]
    }
   ],
   "source": [
    "# Accuracy Evaluation\n",
    "kfold = KFold(n_splits=10)\n",
    "kfold.get_n_splits(X)\n",
    "print (kfold)\n",
    "model = DecisionTreeClassifier(max_depth = 4)\n",
    "\n",
    "results = model_selection.cross_val_score(model, X, y, cv=kfold, scoring='accuracy')\n",
    "r2 = model_selection.cross_val_score(model, X, y, cv=kfold, scoring='r2')\n",
    "mse = model_selection.cross_val_score(model, X, y, cv=kfold, scoring='neg_mean_squared_error')\n",
    "mae = model_selection.cross_val_score(model, X, y, cv=kfold, scoring='neg_mean_absolute_error')\n",
    "\n",
    "\n",
    "print('Accuracy: ',results,results.mean())\n",
    "print('R2: ',r2.mean())\n",
    "#print(\"Mean Squared Error : \", mse.mean())\n",
    "#print(\"Mean Absolute Error : \", mae.mean())"
   ]
  },
  {
   "cell_type": "code",
   "execution_count": null,
   "id": "86def96c",
   "metadata": {},
   "outputs": [],
   "source": []
  },
  {
   "cell_type": "markdown",
   "id": "cdd56565",
   "metadata": {},
   "source": [
    "\n"
   ]
  },
  {
   "cell_type": "code",
   "execution_count": null,
   "id": "064fd6b4",
   "metadata": {},
   "outputs": [],
   "source": []
  },
  {
   "cell_type": "code",
   "execution_count": null,
   "id": "0f796af6",
   "metadata": {},
   "outputs": [],
   "source": []
  },
  {
   "cell_type": "code",
   "execution_count": null,
   "id": "b057fbf1",
   "metadata": {},
   "outputs": [],
   "source": []
  }
 ],
 "metadata": {
  "colab": {
   "provenance": []
  },
  "kernelspec": {
   "display_name": "Python 3 (ipykernel)",
   "language": "python",
   "name": "python3"
  },
  "language_info": {
   "codemirror_mode": {
    "name": "ipython",
    "version": 3
   },
   "file_extension": ".py",
   "mimetype": "text/x-python",
   "name": "python",
   "nbconvert_exporter": "python",
   "pygments_lexer": "ipython3",
   "version": "3.9.13"
  }
 },
 "nbformat": 4,
 "nbformat_minor": 5
}
